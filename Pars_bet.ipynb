{
  "nbformat": 4,
  "nbformat_minor": 0,
  "metadata": {
    "colab": {
      "name": "Pars_bet.ipynb",
      "provenance": [],
      "authorship_tag": "ABX9TyMhn54eLqcDikrLVwNhTso5",
      "include_colab_link": true
    },
    "kernelspec": {
      "name": "python3",
      "display_name": "Python 3"
    }
  },
  "cells": [
    {
      "cell_type": "markdown",
      "metadata": {
        "id": "view-in-github",
        "colab_type": "text"
      },
      "source": [
        "<a href=\"https://colab.research.google.com/github/ankazar/bk/blob/main/Pars_bet.ipynb\" target=\"_parent\"><img src=\"https://colab.research.google.com/assets/colab-badge.svg\" alt=\"Open In Colab\"/></a>"
      ]
    },
    {
      "cell_type": "code",
      "metadata": {
        "id": "Q2Miha7xn5Yz"
      },
      "source": [
        "from bs4 import BeautifulSoup  \n",
        "import pandas as pd  \n",
        "import requests \n",
        "import time \n",
        "import re \n",
        "from time import strftime\n",
        "from time import gmtime\n",
        "import json\n",
        "from IPython.display import clear_output\n",
        "\n",
        "x1 = '{''}'.format('https://www.marathonbet.ru/su/live/45356')\n",
        "url = x1\n",
        "\n",
        "\n",
        "while True:\n",
        "  soup = BeautifulSoup(requests.get(url).text, 'html.parser')\n",
        "  if len(soup.find_all(class_ = 'category-container collapsed')) != 0:\n",
        "    url += '?ecids='\n",
        "    for meta in soup.find_all(class_ = 'category-container collapsed'):\n",
        "      url += meta.attrs['data-category-treeid'] + ','\n",
        "    soup = BeautifulSoup(requests.get(url).text, 'html.parser')\n",
        "\n",
        "  data = soup.find(class_='pure-u-1-1').find_all('table')\n",
        "\n",
        "  df_ = pd.DataFrame()\n",
        "  for n, df in enumerate(pd.read_html(str(data))):\n",
        "    if len(df.index) == 0:\n",
        "      #print(pd.read_html(str(data))[n-1][2][0])\n",
        "      df_div = pd.DataFrame({'division':[pd.read_html(str(data))[n-1][2][0]]})\n",
        "    if len(df.index) == 6 and len(df.columns) == 9:\n",
        "      #print(pd.read_html(str(data))[n].iloc[0].to_frame().T)\n",
        "      #df_bet = pd.DataFrame(pd.read_html(str(data))[n].iloc[0].to_frame().T)\n",
        "      df_bet = df.iloc[0].to_frame().T\n",
        "      df_ = df_.append(pd.concat([df_div, df_bet], axis=1))\n",
        "      #print(df)\n",
        "      #df = df.append(df_div)\n",
        "    #print(n, len(df.index))  \n",
        "\n",
        "  df_.columns = ['division', 'info', 'tree', '2', 'k1', 'k2', '5', '6', '7', '8']\n",
        "  df_.index = [i for i in range(len(df_.index))]\n",
        "\n",
        "  df_['period_number'] = df_['info'].apply(lambda x: x.count(',') + 1)\n",
        "\n",
        "  df_d = {}\n",
        "  d_l = []\n",
        "  for row in df_.index:\n",
        "    df_d = {}\n",
        "    i_d = json.loads(df_.iloc[row]['tree'])\n",
        "    #df_d['row'] = row\n",
        "    df_d['treeId'] = i_d['treeId']\n",
        "    df_d['mainScore'] = i_d['mainScore']\n",
        "    df_d['total'] = abs(int(i_d['mainScore'].split(':')[0]) - int(i_d['mainScore'].split(':')[1]))\n",
        "    df_d['time'] = strftime(\"%M:%S\", gmtime(i_d['matchTime']['seconds']))\n",
        "    #print(df_.iloc[row]['tree'])\n",
        "    #print(row)\n",
        "    d_l.append(df_d)\n",
        "\n",
        "  clear_output(wait=True)\n",
        "  time.sleep(3)\n",
        "  display(pd.concat([df_[['division', 'k1', 'k2', 'period_number']], pd.DataFrame(d_l)], axis=1))\n",
        "  time.sleep(3)"
      ],
      "execution_count": null,
      "outputs": []
    }
  ]
}